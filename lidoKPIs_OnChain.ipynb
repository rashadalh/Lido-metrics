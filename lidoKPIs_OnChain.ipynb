{
 "cells": [
  {
   "cell_type": "markdown",
   "metadata": {},
   "source": [
    "Author: Rashad Haddad   \n",
    "Description: This notebook provides a response to the following interview question:    \n",
    "\n",
    "```\n",
    "This question will be centered around one of our notable customers, Lido. Your first task is to identify key performance indicators (KPIs) for Lido, keeping them accurate and relevant. \n",
    "\n",
    "Next, we'll begin a technical challenge by assuming organic volume growth on centralized exchanges is one of their essential KPIs. Use Jupyter or DeepNote to stitch data from various sources (such as Bybit, Huobi, Gate, MEXC, OKX, Binance, Coinbase, and/or Kraken) to formulate some valuable insight, along with some visualizations. Afterward, please construct a concise report with 1-2 of these insights.\n",
    "```"
   ]
  },
  {
   "cell_type": "markdown",
   "metadata": {},
   "source": [
    "## (1) KPI's for LIDO"
   ]
  },
  {
   "cell_type": "markdown",
   "metadata": {},
   "source": [
    "Lido is a platform for liquid staking of ethereum. Users can deposit their ethereum to the contract and in return received stETH, which is a ERC-20 token that can be transfered, sold, and used for a variety of applications in DeFi. \n",
    "\n",
    "KPIs for LIDO should focus on measuring growth, performance of the token and services, profitability, and risks to the users or the platform.  "
   ]
  },
  {
   "cell_type": "markdown",
   "metadata": {},
   "source": [
    "### Possible growth KPI's"
   ]
  },
  {
   "cell_type": "markdown",
   "metadata": {},
   "source": [
    "#### Total Value Locked (TVL):"
   ]
  },
  {
   "cell_type": "markdown",
   "metadata": {},
   "source": [
    "Given staking is at the core of Lido's operation, tracking the how much Ether is deposited into the Lido smart contract is an important measure of the demand for Lido's services. TVL can also be used to compare how much demand Lido is attracting relative to its competitors such as Rocket Pool.  "
   ]
  },
  {
   "cell_type": "markdown",
   "metadata": {},
   "source": [
    "#### Number of Active Stakers"
   ]
  },
  {
   "cell_type": "markdown",
   "metadata": {},
   "source": [
    "How many unique Ethereum addresses are depositing to Lido? Increases in this amount could suggest growth in demand for Lido"
   ]
  },
  {
   "cell_type": "markdown",
   "metadata": {},
   "source": [
    "#### Average/Median Staked Amount per user"
   ]
  },
  {
   "cell_type": "markdown",
   "metadata": {},
   "source": [
    "How much is the typical Lido user staking, what does the distribution look like? What is the mean, 25/50/75 percentiles? What is the growth in users within these segments? This might tell us something about the typical person that Lido attracts, and where to focus marketing and growth initiatives"
   ]
  },
  {
   "cell_type": "markdown",
   "metadata": {},
   "source": [
    "### Possible performance KPIs"
   ]
  },
  {
   "cell_type": "markdown",
   "metadata": {},
   "source": [
    "#### Staking rewards rate"
   ]
  },
  {
   "cell_type": "markdown",
   "metadata": {},
   "source": [
    "Lido isn't the only liquid staking service available. How does the APY offered by Lido compare to competitors?"
   ]
  },
  {
   "cell_type": "markdown",
   "metadata": {},
   "source": [
    "#### Overhead costs per ether deposited"
   ]
  },
  {
   "cell_type": "markdown",
   "metadata": {},
   "source": [
    "How much does Lido need to spend on running all of its operating activities per ether on deposit? Can we identify areas where costs could be reduced? Could these cost reductions be passed to users in the form of a higher APY?"
   ]
  },
  {
   "cell_type": "markdown",
   "metadata": {},
   "source": [
    "### Possible risk KPIs"
   ]
  },
  {
   "cell_type": "markdown",
   "metadata": {},
   "source": [
    "#### Slashing Incidents"
   ]
  },
  {
   "cell_type": "markdown",
   "metadata": {},
   "source": [
    "How much money is lost per month/quarter/year on slashing? How about per node operator of the Lido network? Are some node operators part of the Lido network seeing more slashing incidents than others? Should some of these node operators be asked to stop participating? Likewise, which node operators are performing the best, and can we replicate what makes them successful accross node operators that are part of the Lido network?"
   ]
  },
  {
   "cell_type": "markdown",
   "metadata": {},
   "source": [
    "#### Regulatory exposure"
   ]
  },
  {
   "cell_type": "markdown",
   "metadata": {},
   "source": [
    "Using data available on or off chain, can we indentify the volume of users/assets on deposit that are exposed to certain geopolitical regions and regimes that might not be crypto friendly? What risks might changes in regulatory frameworks in these regions have on Lido based on it's exposure, if any, to these regions? Should Lido have to change in business policies as a result? How might this impact the bottom line?"
   ]
  },
  {
   "cell_type": "markdown",
   "metadata": {},
   "source": [
    "### (2) Measuring organic growth on centralized exchanges"
   ]
  },
  {
   "cell_type": "markdown",
   "metadata": {},
   "source": [
    "Given stETH is a tradeable ERC-20 token, one measure of growth may be to measure how much stETH is being brought onto centralized exchanges that list the token. As not everyone is DeFi friendly, or wants to deal with issues such as self custody, paying gas fees, and learning how to use L2's, measuring how much demand there is for stETH on centralized exchanges may be a useful KPI to measure mainstream/retail demand for stETH"
   ]
  },
  {
   "cell_type": "markdown",
   "metadata": {},
   "source": [
    "#### How can we measure this?"
   ]
  },
  {
   "cell_type": "markdown",
   "metadata": {},
   "source": [
    "Most CEX's have addresses on-chain associated with the exchange, and are labeled by etherscan. Using the following, link we can look at top holders of stETH.  \n",
    "\n",
    "https://etherscan.io/token/0xae7ab96520de3a18e5e111b5eaab095312d7fe84#balances"
   ]
  },
  {
   "cell_type": "markdown",
   "metadata": {},
   "source": [
    "**For this exercise I have chosen to work with the bybit hot-wallet address as it holds a large number of stETH, providing a reasonable proxy to measure organic growth, and simpflies analysis for the rest of the report**"
   ]
  },
  {
   "cell_type": "markdown",
   "metadata": {},
   "source": [
    "The address associated with Bybit's hotwallet is 0xf89d7b9c864f589bbF53a82105107622B35EaA40, and as of writing it holds ~ 22,370 stETH.\n",
    "\n",
    "We can use the graph protocol to figure out how much stETH is flowing into/out of this address"
   ]
  },
  {
   "cell_type": "markdown",
   "metadata": {},
   "source": [
    "**I use the following subgraph from the hosted service**  \n",
    "```https://thegraph.com/hosted-service/subgraph/lidofinance/lido```"
   ]
  },
  {
   "cell_type": "markdown",
   "metadata": {},
   "source": [
    "Below we import dependencies and bring in some helper functions to collect information about addresses that have either sent value to OR received value from Bybit HotWallet."
   ]
  },
  {
   "cell_type": "code",
   "execution_count": 1,
   "metadata": {},
   "outputs": [],
   "source": [
    "import datetime\n",
    "import requests\n",
    "import pandas as pd"
   ]
  },
  {
   "cell_type": "code",
   "execution_count": 2,
   "metadata": {},
   "outputs": [],
   "source": [
    "bybit_addr = \"0xf89d7b9c864f589bbF53a82105107622B35EaA40\""
   ]
  },
  {
   "cell_type": "code",
   "execution_count": 3,
   "metadata": {},
   "outputs": [],
   "source": [
    "def lido_to(addr: str, first: int = 1000, skip: int = 0) -> str:\n",
    "    \"\"\"Create query to get transactions headed to from an addr via lido.\"\"\"\n",
    "    return (\"\"\"{\n",
    "                lidoTransfers(first: %s, skip: %s, where : {to : \"%s\"}) {\n",
    "                    from\n",
    "                    to\n",
    "                    value\n",
    "                    blockTime\n",
    "                    transactionHash\n",
    "                }\n",
    "                }\"\"\" % (first, skip, addr)).replace(\"\\n\",\"\")\n",
    "\n",
    "def lido_from(addr: str, first: int = 1000, skip: int = 0) -> str:\n",
    "    \"\"\"Create query to get transactions headed from an addr via lido.\"\"\"\n",
    "    return (\"\"\"{\n",
    "                lidoTransfers(first: %s, skip: %s, where : {from : \"%s\"}) {\n",
    "                    from\n",
    "                    to\n",
    "                    value\n",
    "                    blockTime\n",
    "                    transactionHash\n",
    "                }\n",
    "                }\"\"\" % (first, skip, addr)).replace(\"\\n\",\"\")"
   ]
  },
  {
   "cell_type": "code",
   "execution_count": 4,
   "metadata": {},
   "outputs": [],
   "source": [
    "def get_lido_data(addr: str, max_skips: int = 20, mode = \"from\") -> pd.DataFrame:\n",
    "    \"\"\"Fetch historical data from lido hosted subgraph.\n",
    "\n",
    "    Args:\n",
    "        addr: (str): Address of the account receiving or sending stETH.\n",
    "        max_skips (str): Max number of paginations to try. Defaults to 10.\n",
    "\n",
    "    Returns:\n",
    "        (DataFrame): Historical Dataframe of prices.\n",
    "    \"\"\"\n",
    "\n",
    "    # to get all the historical data, we need to paginate.\n",
    "    if mode not in [\"from\", \"to\"]:\n",
    "        raise Exception(\"mode must be either 'from' or 'to'\")\n",
    "    \n",
    "    skips = 0\n",
    "\n",
    "    responses = {\"data\" : []}\n",
    "\n",
    "    while skips < max_skips:\n",
    "        # get the query\n",
    "        query_func = lido_from if mode == \"from\" else lido_to\n",
    "        query = query_func(\n",
    "                        addr=addr,\n",
    "                        first=1000,\n",
    "                        skip=skips\n",
    "                        )\n",
    "        \n",
    "        # make a request for the data\n",
    "        request = requests.post(\"https://api.thegraph.com/subgraphs/name/lidofinance/lido\",\n",
    "                                '',\n",
    "                                json={'query': query})\n",
    "\n",
    "        if request.status_code == 200:\n",
    "            # add response\n",
    "            try:\n",
    "                responses[\"data\"].append(request.json()[\"data\"][\"lidoTransfers\"])\n",
    "            except:\n",
    "               continue\n",
    "        else:\n",
    "            print('Query failed. return code is {}.      {}'.format(request.status_code, query))\n",
    "            return responses\n",
    "\n",
    "        # increment skips\n",
    "        skips += 1\n",
    "    \n",
    "    # return responses\n",
    "    return responses"
   ]
  },
  {
   "cell_type": "markdown",
   "metadata": {},
   "source": [
    "Let's fetch the data. let's fetch up to 50 skips."
   ]
  },
  {
   "cell_type": "code",
   "execution_count": 5,
   "metadata": {},
   "outputs": [],
   "source": [
    "to_bybit_data = get_lido_data(\n",
    "    max_skips=50,\n",
    "    mode=\"to\",\n",
    "    addr=bybit_addr\n",
    ")\n",
    "\n",
    "from_bybit_data = get_lido_data(\n",
    "    max_skips=50,\n",
    "    mode=\"from\",\n",
    "    addr=bybit_addr\n",
    ")"
   ]
  },
  {
   "cell_type": "markdown",
   "metadata": {},
   "source": [
    "From these, lets normalize by blockTime."
   ]
  },
  {
   "cell_type": "code",
   "execution_count": 6,
   "metadata": {},
   "outputs": [],
   "source": [
    "def make_value_df(json_dat: dict) -> pd.DataFrame:\n",
    "\n",
    "    tx_hashs = set()\n",
    "    token_values = []\n",
    "    time_stamps = []\n",
    "\n",
    "    for dat_list in json_dat:\n",
    "        for dat_dict in dat_list:\n",
    "            try:\n",
    "                tx_hash = dat_dict[\"transactionHash\"]\n",
    "                if tx_hash in tx_hashs:\n",
    "                    continue  # avoid duplicate txs\n",
    "                tx_hashs.add(tx_hash)\n",
    "\n",
    "                value = float(dat_dict[\"value\"]) / 10**18\n",
    "                dt = datetime.datetime.fromtimestamp(int(dat_dict[\"blockTime\"]))\n",
    "            except:\n",
    "                continue\n",
    "\n",
    "            token_values.append(value)\n",
    "            time_stamps.append(dt)\n",
    "\n",
    "    res = pd.DataFrame({\"total_token_value\" : token_values}, index=pd.to_datetime(time_stamps)).sort_index(ascending=False)\n",
    "    return res.groupby(res.index).sum()\n"
   ]
  },
  {
   "cell_type": "code",
   "execution_count": 7,
   "metadata": {},
   "outputs": [],
   "source": [
    "to_bybit_df   = make_value_df( to_bybit_data['data'] )\n",
    "from_bybit_df = make_value_df( from_bybit_data['data'] )"
   ]
  },
  {
   "cell_type": "code",
   "execution_count": 8,
   "metadata": {},
   "outputs": [
    {
     "data": {
      "text/html": [
       "<div>\n",
       "<style scoped>\n",
       "    .dataframe tbody tr th:only-of-type {\n",
       "        vertical-align: middle;\n",
       "    }\n",
       "\n",
       "    .dataframe tbody tr th {\n",
       "        vertical-align: top;\n",
       "    }\n",
       "\n",
       "    .dataframe thead th {\n",
       "        text-align: right;\n",
       "    }\n",
       "</style>\n",
       "<table border=\"1\" class=\"dataframe\">\n",
       "  <thead>\n",
       "    <tr style=\"text-align: right;\">\n",
       "      <th></th>\n",
       "      <th>total_token_value</th>\n",
       "    </tr>\n",
       "  </thead>\n",
       "  <tbody>\n",
       "    <tr>\n",
       "      <th>2021-11-16 02:15:57</th>\n",
       "      <td>0.041379</td>\n",
       "    </tr>\n",
       "    <tr>\n",
       "      <th>2021-12-25 02:00:38</th>\n",
       "      <td>10.000000</td>\n",
       "    </tr>\n",
       "    <tr>\n",
       "      <th>2022-01-16 04:17:31</th>\n",
       "      <td>1.004098</td>\n",
       "    </tr>\n",
       "    <tr>\n",
       "      <th>2022-01-16 15:03:39</th>\n",
       "      <td>1.000000</td>\n",
       "    </tr>\n",
       "    <tr>\n",
       "      <th>2022-01-19 03:43:35</th>\n",
       "      <td>1.017100</td>\n",
       "    </tr>\n",
       "  </tbody>\n",
       "</table>\n",
       "</div>"
      ],
      "text/plain": [
       "                     total_token_value\n",
       "2021-11-16 02:15:57           0.041379\n",
       "2021-12-25 02:00:38          10.000000\n",
       "2022-01-16 04:17:31           1.004098\n",
       "2022-01-16 15:03:39           1.000000\n",
       "2022-01-19 03:43:35           1.017100"
      ]
     },
     "execution_count": 8,
     "metadata": {},
     "output_type": "execute_result"
    }
   ],
   "source": [
    "to_bybit_df.head()"
   ]
  },
  {
   "cell_type": "code",
   "execution_count": 9,
   "metadata": {},
   "outputs": [
    {
     "data": {
      "text/html": [
       "<div>\n",
       "<style scoped>\n",
       "    .dataframe tbody tr th:only-of-type {\n",
       "        vertical-align: middle;\n",
       "    }\n",
       "\n",
       "    .dataframe tbody tr th {\n",
       "        vertical-align: top;\n",
       "    }\n",
       "\n",
       "    .dataframe thead th {\n",
       "        text-align: right;\n",
       "    }\n",
       "</style>\n",
       "<table border=\"1\" class=\"dataframe\">\n",
       "  <thead>\n",
       "    <tr style=\"text-align: right;\">\n",
       "      <th></th>\n",
       "      <th>total_token_value</th>\n",
       "    </tr>\n",
       "  </thead>\n",
       "  <tbody>\n",
       "    <tr>\n",
       "      <th>2021-11-16 02:24:43</th>\n",
       "      <td>0.034679</td>\n",
       "    </tr>\n",
       "    <tr>\n",
       "      <th>2022-06-26 15:38:35</th>\n",
       "      <td>35.500000</td>\n",
       "    </tr>\n",
       "    <tr>\n",
       "      <th>2022-07-29 22:12:24</th>\n",
       "      <td>10.695690</td>\n",
       "    </tr>\n",
       "    <tr>\n",
       "      <th>2022-08-07 10:31:56</th>\n",
       "      <td>8.731147</td>\n",
       "    </tr>\n",
       "    <tr>\n",
       "      <th>2022-08-10 09:41:24</th>\n",
       "      <td>100.000000</td>\n",
       "    </tr>\n",
       "  </tbody>\n",
       "</table>\n",
       "</div>"
      ],
      "text/plain": [
       "                     total_token_value\n",
       "2021-11-16 02:24:43           0.034679\n",
       "2022-06-26 15:38:35          35.500000\n",
       "2022-07-29 22:12:24          10.695690\n",
       "2022-08-07 10:31:56           8.731147\n",
       "2022-08-10 09:41:24         100.000000"
      ]
     },
     "execution_count": 9,
     "metadata": {},
     "output_type": "execute_result"
    }
   ],
   "source": [
    "from_bybit_df.head()"
   ]
  },
  {
   "cell_type": "markdown",
   "metadata": {},
   "source": [
    "Let's align these together."
   ]
  },
  {
   "cell_type": "code",
   "execution_count": 10,
   "metadata": {},
   "outputs": [],
   "source": [
    "to_bybit_df.rename(columns = {'total_token_value' : 'to_bybit'}, inplace=True)\n",
    "from_bybit_df.rename(columns = {'total_token_value' : 'from_bybit'}, inplace=True)\n",
    "bybit_df = to_bybit_df.join(from_bybit_df, how='outer')  # outer join to keep all dates"
   ]
  },
  {
   "cell_type": "code",
   "execution_count": 11,
   "metadata": {},
   "outputs": [
    {
     "data": {
      "text/html": [
       "<div>\n",
       "<style scoped>\n",
       "    .dataframe tbody tr th:only-of-type {\n",
       "        vertical-align: middle;\n",
       "    }\n",
       "\n",
       "    .dataframe tbody tr th {\n",
       "        vertical-align: top;\n",
       "    }\n",
       "\n",
       "    .dataframe thead th {\n",
       "        text-align: right;\n",
       "    }\n",
       "</style>\n",
       "<table border=\"1\" class=\"dataframe\">\n",
       "  <thead>\n",
       "    <tr style=\"text-align: right;\">\n",
       "      <th></th>\n",
       "      <th>to_bybit</th>\n",
       "      <th>from_bybit</th>\n",
       "    </tr>\n",
       "  </thead>\n",
       "  <tbody>\n",
       "    <tr>\n",
       "      <th>2021-11-16 02:15:57</th>\n",
       "      <td>0.041379</td>\n",
       "      <td>NaN</td>\n",
       "    </tr>\n",
       "    <tr>\n",
       "      <th>2021-11-16 02:24:43</th>\n",
       "      <td>NaN</td>\n",
       "      <td>0.034679</td>\n",
       "    </tr>\n",
       "    <tr>\n",
       "      <th>2021-12-25 02:00:38</th>\n",
       "      <td>10.000000</td>\n",
       "      <td>NaN</td>\n",
       "    </tr>\n",
       "    <tr>\n",
       "      <th>2022-01-16 04:17:31</th>\n",
       "      <td>1.004098</td>\n",
       "      <td>NaN</td>\n",
       "    </tr>\n",
       "    <tr>\n",
       "      <th>2022-01-16 15:03:39</th>\n",
       "      <td>1.000000</td>\n",
       "      <td>NaN</td>\n",
       "    </tr>\n",
       "  </tbody>\n",
       "</table>\n",
       "</div>"
      ],
      "text/plain": [
       "                      to_bybit  from_bybit\n",
       "2021-11-16 02:15:57   0.041379         NaN\n",
       "2021-11-16 02:24:43        NaN    0.034679\n",
       "2021-12-25 02:00:38  10.000000         NaN\n",
       "2022-01-16 04:17:31   1.004098         NaN\n",
       "2022-01-16 15:03:39   1.000000         NaN"
      ]
     },
     "execution_count": 11,
     "metadata": {},
     "output_type": "execute_result"
    }
   ],
   "source": [
    "bybit_df.head()"
   ]
  },
  {
   "cell_type": "markdown",
   "metadata": {},
   "source": [
    "Let's figure out cummulative flows."
   ]
  },
  {
   "cell_type": "code",
   "execution_count": 12,
   "metadata": {},
   "outputs": [],
   "source": [
    "bybit_df.fillna(0, inplace=True)"
   ]
  },
  {
   "cell_type": "code",
   "execution_count": 13,
   "metadata": {},
   "outputs": [],
   "source": [
    "bybit_df[\"net_flow\"] = bybit_df[\"to_bybit\"] - bybit_df[\"from_bybit\"]\n",
    "bybit_df[\"cum_flow\"] = bybit_df[\"net_flow\"].cumsum()"
   ]
  },
  {
   "cell_type": "markdown",
   "metadata": {},
   "source": [
    "Because the data only goes to 2021-11-16 for the data, and we know stETH launched in December 2020, let's add the difference to the start of the cum flow so it ties to the current balance"
   ]
  },
  {
   "cell_type": "code",
   "execution_count": 14,
   "metadata": {},
   "outputs": [],
   "source": [
    "current_bal = 22370  # roughly as of 2023-07-30\n",
    "diff_at_end = current_bal - bybit_df.iloc[-1][\"cum_flow\"]\n",
    "bybit_df[\"cum_flow\"] += diff_at_end"
   ]
  },
  {
   "cell_type": "code",
   "execution_count": 15,
   "metadata": {},
   "outputs": [
    {
     "data": {
      "text/html": [
       "<div>\n",
       "<style scoped>\n",
       "    .dataframe tbody tr th:only-of-type {\n",
       "        vertical-align: middle;\n",
       "    }\n",
       "\n",
       "    .dataframe tbody tr th {\n",
       "        vertical-align: top;\n",
       "    }\n",
       "\n",
       "    .dataframe thead th {\n",
       "        text-align: right;\n",
       "    }\n",
       "</style>\n",
       "<table border=\"1\" class=\"dataframe\">\n",
       "  <thead>\n",
       "    <tr style=\"text-align: right;\">\n",
       "      <th></th>\n",
       "      <th>to_bybit</th>\n",
       "      <th>from_bybit</th>\n",
       "      <th>net_flow</th>\n",
       "      <th>cum_flow</th>\n",
       "    </tr>\n",
       "  </thead>\n",
       "  <tbody>\n",
       "    <tr>\n",
       "      <th>2021-11-16 02:15:57</th>\n",
       "      <td>0.041379</td>\n",
       "      <td>0.000000</td>\n",
       "      <td>0.041379</td>\n",
       "      <td>12369.257251</td>\n",
       "    </tr>\n",
       "    <tr>\n",
       "      <th>2021-11-16 02:24:43</th>\n",
       "      <td>0.000000</td>\n",
       "      <td>0.034679</td>\n",
       "      <td>-0.034679</td>\n",
       "      <td>12369.222573</td>\n",
       "    </tr>\n",
       "    <tr>\n",
       "      <th>2021-12-25 02:00:38</th>\n",
       "      <td>10.000000</td>\n",
       "      <td>0.000000</td>\n",
       "      <td>10.000000</td>\n",
       "      <td>12379.222573</td>\n",
       "    </tr>\n",
       "    <tr>\n",
       "      <th>2022-01-16 04:17:31</th>\n",
       "      <td>1.004098</td>\n",
       "      <td>0.000000</td>\n",
       "      <td>1.004098</td>\n",
       "      <td>12380.226671</td>\n",
       "    </tr>\n",
       "    <tr>\n",
       "      <th>2022-01-16 15:03:39</th>\n",
       "      <td>1.000000</td>\n",
       "      <td>0.000000</td>\n",
       "      <td>1.000000</td>\n",
       "      <td>12381.226671</td>\n",
       "    </tr>\n",
       "    <tr>\n",
       "      <th>...</th>\n",
       "      <td>...</td>\n",
       "      <td>...</td>\n",
       "      <td>...</td>\n",
       "      <td>...</td>\n",
       "    </tr>\n",
       "    <tr>\n",
       "      <th>2023-07-28 09:43:59</th>\n",
       "      <td>1.065871</td>\n",
       "      <td>0.000000</td>\n",
       "      <td>1.065871</td>\n",
       "      <td>22412.687348</td>\n",
       "    </tr>\n",
       "    <tr>\n",
       "      <th>2023-07-28 18:15:35</th>\n",
       "      <td>0.000000</td>\n",
       "      <td>3.148899</td>\n",
       "      <td>-3.148899</td>\n",
       "      <td>22409.538449</td>\n",
       "    </tr>\n",
       "    <tr>\n",
       "      <th>2023-07-29 13:59:35</th>\n",
       "      <td>0.000000</td>\n",
       "      <td>2.647872</td>\n",
       "      <td>-2.647872</td>\n",
       "      <td>22406.890577</td>\n",
       "    </tr>\n",
       "    <tr>\n",
       "      <th>2023-07-29 18:17:35</th>\n",
       "      <td>0.000000</td>\n",
       "      <td>36.082475</td>\n",
       "      <td>-36.082475</td>\n",
       "      <td>22370.808101</td>\n",
       "    </tr>\n",
       "    <tr>\n",
       "      <th>2023-07-30 08:42:59</th>\n",
       "      <td>0.000000</td>\n",
       "      <td>0.808101</td>\n",
       "      <td>-0.808101</td>\n",
       "      <td>22370.000000</td>\n",
       "    </tr>\n",
       "  </tbody>\n",
       "</table>\n",
       "<p>1526 rows × 4 columns</p>\n",
       "</div>"
      ],
      "text/plain": [
       "                      to_bybit  from_bybit   net_flow      cum_flow\n",
       "2021-11-16 02:15:57   0.041379    0.000000   0.041379  12369.257251\n",
       "2021-11-16 02:24:43   0.000000    0.034679  -0.034679  12369.222573\n",
       "2021-12-25 02:00:38  10.000000    0.000000  10.000000  12379.222573\n",
       "2022-01-16 04:17:31   1.004098    0.000000   1.004098  12380.226671\n",
       "2022-01-16 15:03:39   1.000000    0.000000   1.000000  12381.226671\n",
       "...                        ...         ...        ...           ...\n",
       "2023-07-28 09:43:59   1.065871    0.000000   1.065871  22412.687348\n",
       "2023-07-28 18:15:35   0.000000    3.148899  -3.148899  22409.538449\n",
       "2023-07-29 13:59:35   0.000000    2.647872  -2.647872  22406.890577\n",
       "2023-07-29 18:17:35   0.000000   36.082475 -36.082475  22370.808101\n",
       "2023-07-30 08:42:59   0.000000    0.808101  -0.808101  22370.000000\n",
       "\n",
       "[1526 rows x 4 columns]"
      ]
     },
     "execution_count": 15,
     "metadata": {},
     "output_type": "execute_result"
    }
   ],
   "source": [
    "bybit_df"
   ]
  },
  {
   "cell_type": "markdown",
   "metadata": {},
   "source": [
    "#### Growth in bybit holdings of stETH since 2021-11-16"
   ]
  },
  {
   "cell_type": "code",
   "execution_count": 16,
   "metadata": {},
   "outputs": [],
   "source": [
    "import matplotlib.pyplot as plt"
   ]
  },
  {
   "cell_type": "code",
   "execution_count": 17,
   "metadata": {},
   "outputs": [
    {
     "data": {
      "image/png": "[encoded data removed]",
      "text/plain": [
       "<Figure size 1080x360 with 1 Axes>"
      ]
     },
     "metadata": {
      "needs_background": "light"
     },
     "output_type": "display_data"
    }
   ],
   "source": [
    "plt.figure(figsize=(15,5))\n",
    "plt.plot(bybit_df.index, bybit_df.cum_flow)\n",
    "plt.title(\"Growth in bybit (hotwallet) stETH holdings\")\n",
    "plt.show()"
   ]
  },
  {
   "cell_type": "markdown",
   "metadata": {},
   "source": [
    "There appears to be some large changes in the number of staked ETH in bybit, this may be caused by either internal transfers or large market participants trading in and out of bybit. Generally, bybit has seen steady growth in the amount of stETH moved into the exchange, with a large increase post staking withdraws late Q1 '23. "
   ]
  },
  {
   "cell_type": "markdown",
   "metadata": {},
   "source": [
    "#### How much of this growth is coming from unique users?"
   ]
  },
  {
   "cell_type": "markdown",
   "metadata": {},
   "source": [
    "We can look at how many unique addresses have sent value or withdrawn value from bybit over time. This may be an indication of how much of the growth in the balance on Bybit is driven by (potentially) new users, versus existing holders."
   ]
  },
  {
   "cell_type": "code",
   "execution_count": 18,
   "metadata": {},
   "outputs": [],
   "source": [
    "from_addrs_cnts = {}\n",
    "to_addrs_cnts = {}\n",
    "\n",
    "from_addrs_obs = set()\n",
    "to_addrs_obs = set()\n",
    "\n",
    "for json_dict in to_bybit_data['data'][0]:\n",
    "    addr = json_dict['from']\n",
    "    if addr not in from_addrs_obs:\n",
    "        dt = datetime.datetime.fromtimestamp(int(json_dict[\"blockTime\"]))\n",
    "        from_addrs_cnts[dt] = from_addrs_cnts.get(dt, 0) + 1\n",
    "        from_addrs_obs.add(addr)\n",
    "\n",
    "for json_dict in from_bybit_data['data'][0]:\n",
    "    addr = json_dict['to']\n",
    "    if addr not in from_addrs_obs:\n",
    "        dt = datetime.datetime.fromtimestamp(int(json_dict[\"blockTime\"]))\n",
    "        to_addrs_cnts[dt] = to_addrs_cnts.get(dt,0) + 1\n",
    "        to_addrs_obs.add(addr)\n",
    "\n",
    "from_addrs_cnts = pd.DataFrame(pd.Series(from_addrs_cnts), columns=[\"from\"])\n",
    "to_addrs_cnts = pd.DataFrame(pd.Series(to_addrs_cnts), columns=[\"to\"])\n",
    "\n",
    "addrs_cnts = from_addrs_cnts.join(to_addrs_cnts, how='outer').fillna(0).groupby(level=0).sum().cumsum()\n",
    "addrs_cnts.loc[:,\"Cum_Total\"] = addrs_cnts.sum(axis=1)"
   ]
  },
  {
   "cell_type": "code",
   "execution_count": 19,
   "metadata": {},
   "outputs": [
    {
     "data": {
      "image/png": "[encoded data removed]",
      "text/plain": [
       "<Figure size 1080x360 with 1 Axes>"
      ]
     },
     "metadata": {
      "needs_background": "light"
     },
     "output_type": "display_data"
    }
   ],
   "source": [
    "plt.figure(figsize=(15,5))\n",
    "plt.plot(addrs_cnts.index, addrs_cnts.Cum_Total)\n",
    "plt.title(\"Unique users who've sent or recieved stETH from Bybit since Nov '21\")\n",
    "plt.show()"
   ]
  },
  {
   "cell_type": "markdown",
   "metadata": {},
   "source": [
    "This shows a pretty steady increase, we can also look at this on a log scale to judge how steady the growth has been."
   ]
  },
  {
   "cell_type": "code",
   "execution_count": 20,
   "metadata": {},
   "outputs": [
    {
     "data": {
      "image/png": "[encoded data removed]",
      "text/plain": [
       "<Figure size 1080x360 with 1 Axes>"
      ]
     },
     "metadata": {
      "needs_background": "light"
     },
     "output_type": "display_data"
    }
   ],
   "source": [
    "plt.figure(figsize=(15,5))\n",
    "plt.plot(addrs_cnts.index, addrs_cnts.Cum_Total)\n",
    "plt.title(\"Unique users who've sent or recieved stETH from Bybit since Nov '21\")\n",
    "plt.yscale('log')\n",
    "plt.show()"
   ]
  },
  {
   "cell_type": "markdown",
   "metadata": {},
   "source": [
    "This is fairly linear on a log scale which implies a pretty steady growth rate in terms of the number of unique addresses. We can back out this growth rate with a bit of algebra...\n",
    "\n",
    "Note since we don't know from the subgraph the number of unique users that have interacted with stETH via Bybit as of Nov '21 we need to approximate that number at the start of the period. We can use the approximation of the balance at the start of the period from earlier with the ending value to the average amount of stETH per user to come up with a reasonable approximation."
   ]
  },
  {
   "cell_type": "code",
   "execution_count": 21,
   "metadata": {},
   "outputs": [
    {
     "name": "stdout",
     "output_type": "stream",
     "text": [
      "Annual growth rate in stETH user count implied by Bybit: 34.83%\n"
     ]
    }
   ],
   "source": [
    "import numpy as np\n",
    "\n",
    "avg_at_end = bybit_df.cum_flow.iloc[-1] / addrs_cnts.Cum_Total.iloc[-1]\n",
    "starting_value_approx = bybit_df.cum_flow.iloc[0] / avg_at_end  # approx number of users to make up this quantity...\n",
    "annual_growth_rate = np.log(addrs_cnts.iloc[-1].Cum_Total / starting_value_approx) / (addrs_cnts.index[-1] - addrs_cnts.index[0]).days * 365\n",
    "print(\"Annual growth rate in stETH user count implied by Bybit: {0}%\".format(round(annual_growth_rate*100,2)))"
   ]
  },
  {
   "cell_type": "markdown",
   "metadata": {},
   "source": [
    "We estimate about a 34.83% annual growth rate in the number of unique addresses. We note that as individual users may have multiple addresses associated with a unique root phrase, that the real growth rate is likely lower than the number reported here. We also note that this is an estimate based on a single source of data, and while byBit is certainly a large holder of stETH, it is not the majority."
   ]
  },
  {
   "cell_type": "markdown",
   "metadata": {},
   "source": [
    "**What is the typical balance held by each unique user interacting with byBit?**\n",
    "\n",
    "for each unique address that has interacted with bybit from the Lido contract, we can make a query to get it's current balance. For accounts with some amount more than some trivial amount (say 0.01 stETH), what is the mean, median, average, and interquartile range?"
   ]
  },
  {
   "cell_type": "code",
   "execution_count": 22,
   "metadata": {},
   "outputs": [],
   "source": [
    "import json\n",
    "stETH_abi = json.loads(open('stETH_abi.txt','r').read())  # from https://etherscan.io/address/0x17144556fd3424edc8fc8a4c940b2d04936d17eb#code:~:text=Submit%20Audit%20Here-,Contract%20ABI,-Export%20ABI"
   ]
  },
  {
   "cell_type": "code",
   "execution_count": 23,
   "metadata": {},
   "outputs": [],
   "source": [
    "# Note I have removed my API key from this notebook, you should copy paste your own API key here inside of the string\n",
    "YOUR_INFURA_API = \"<YOUR INFURA API KEY HERE>\""
   ]
  },
  {
   "cell_type": "code",
   "execution_count": 24,
   "metadata": {},
   "outputs": [],
   "source": [
    "import web3\n",
    "\n",
    "\n",
    "def get_stETH_bal(addr: str):\n",
    "\n",
    "    # setup infura endpoint\n",
    "    web3_ep = web3.Web3(web3.Web3.HTTPProvider(YOUR_INFURA_API))\n",
    "\n",
    "    # Get the Lido smart contract address\n",
    "    lido_contract_address = \"0xae7ab96520DE3A18E5e111B5EaAb095312D7fE84\"\n",
    "\n",
    "    # Create a contract instance for the Lido smart contract\n",
    "    lido_contract = web3_ep.eth.contract(address=lido_contract_address, abi=stETH_abi)\n",
    "\n",
    "    # Get the balance of the address\n",
    "    return lido_contract.functions.balanceOf(addr).call() / 10**18"
   ]
  },
  {
   "cell_type": "code",
   "execution_count": 25,
   "metadata": {},
   "outputs": [
    {
     "data": {
      "text/plain": [
       "22370.54068356638"
      ]
     },
     "execution_count": 25,
     "metadata": {},
     "output_type": "execute_result"
    }
   ],
   "source": [
    "# balance of Lido: All of bybit hotwallet as a test\n",
    "get_stETH_bal(bybit_addr)"
   ]
  },
  {
   "cell_type": "code",
   "execution_count": 26,
   "metadata": {},
   "outputs": [],
   "source": [
    "bybit_user_stETH_bals = {}\n",
    "\n",
    "for addr in to_addrs_obs.union(from_addrs_obs):\n",
    "    bybit_user_stETH_bals[addr] = bybit_user_stETH_bals.get(addr,0) + get_stETH_bal(web3.Web3.to_checksum_address(addr.lower()))"
   ]
  },
  {
   "cell_type": "code",
   "execution_count": 27,
   "metadata": {},
   "outputs": [
    {
     "data": {
      "text/plain": [
       "count     144.000000\n",
       "mean      102.326565\n",
       "std       730.749054\n",
       "min         0.010139\n",
       "25%         0.083521\n",
       "50%         1.999150\n",
       "75%        11.274974\n",
       "max      8563.239258\n",
       "dtype: float64"
      ]
     },
     "execution_count": 27,
     "metadata": {},
     "output_type": "execute_result"
    }
   ],
   "source": [
    "bybit_user_stETH_bals_srs = pd.Series(bybit_user_stETH_bals)\n",
    "dust = 0.01 # anything less than this we will consider a trivial amount\n",
    "bybit_user_stETH_bals_filtered = bybit_user_stETH_bals_srs[bybit_user_stETH_bals_srs > dust]\n",
    "bybit_user_stETH_bals_filtered.describe()"
   ]
  },
  {
   "cell_type": "markdown",
   "metadata": {},
   "source": [
    "Filtering for address that hold at least 0.01 stETH, the typical balance on chain for a stETH holder based on Bybit users is about 1.99 with the 25th percentile at ~0.08 and the 75th percentile at ~11.27 stETH. This is a pretty large dispertion, but given the current market price of ETH is roughly $1.86k as of writing, this suggests the typical stETH holder has under $22k USD worth of stETH. This seems about right for retail investors.\n",
    "\n",
    "We note that the distribution is highly right skewed given the mean is 102.32 stETH. This suggest that there are some very large holders of stETH interacting with the byBit hot wallet."
   ]
  },
  {
   "cell_type": "markdown",
   "metadata": {},
   "source": [
    "**We should also include wstETH balances. If these users are using defi products, they likely have wstETH.**\n",
    "\n",
    "We can add this to the notional total of user balances to get a better picture of the total value of user balances."
   ]
  },
  {
   "cell_type": "code",
   "execution_count": 28,
   "metadata": {},
   "outputs": [],
   "source": [
    "wstETH_abi = json.load(open('./wstETH_abi.txt','r'))  # source: https://etherscan.io/token/0x7f39c581f595b53c5cb19bd0b3f8da6c935e2ca0#code:~:text=Submit%20Audit%20Here-,Contract%20ABI,-Export%20ABI"
   ]
  },
  {
   "cell_type": "code",
   "execution_count": 29,
   "metadata": {},
   "outputs": [],
   "source": [
    "def get_wstETH_bal(addr: str):\n",
    "\n",
    "    # setup infura endpoint\n",
    "    web3_ep = web3.Web3(web3.Web3.HTTPProvider(YOUR_INFURA_API))\n",
    "\n",
    "    # Get the Lido smart contract address\n",
    "    wsteth_contract_address = \"0x7f39C581F595B53c5cb19bD0b3f8dA6c935E2Ca0\"\n",
    "\n",
    "    # Create a contract instance for the Lido smart contract\n",
    "    wsteth_contract = web3_ep.eth.contract(address=wsteth_contract_address, abi=wstETH_abi)\n",
    "\n",
    "    # Get the balance of the address\n",
    "    return wsteth_contract.functions.balanceOf(addr).call() / 10**18"
   ]
  },
  {
   "cell_type": "code",
   "execution_count": 30,
   "metadata": {},
   "outputs": [
    {
     "data": {
      "text/plain": [
       "1995.243021836077"
      ]
     },
     "execution_count": 30,
     "metadata": {},
     "output_type": "execute_result"
    }
   ],
   "source": [
    "# test zksync should ~1995 as of 2023-07-30\n",
    "get_wstETH_bal(\"0xaBEA9132b05A70803a4E85094fD0e1800777fBEF\")"
   ]
  },
  {
   "cell_type": "code",
   "execution_count": 31,
   "metadata": {},
   "outputs": [],
   "source": [
    "bybit_user_wstETH_bals = {}\n",
    "\n",
    "for addr in to_addrs_obs.union(from_addrs_obs):\n",
    "    bybit_user_wstETH_bals[addr] = bybit_user_wstETH_bals.get(addr,0) + get_wstETH_bal(web3.Web3.to_checksum_address(addr.lower()))"
   ]
  },
  {
   "cell_type": "markdown",
   "metadata": {},
   "source": [
    "Add these onto stETH bals to approx current value of stETH by each user."
   ]
  },
  {
   "cell_type": "markdown",
   "metadata": {},
   "source": [
    "Note as of writing 1 wstETH = 0.8818 stETH : https://stake.lido.fi/wrap#:~:text=1%20stETH%20%3D%200.8818%C2%A0wstETH"
   ]
  },
  {
   "cell_type": "code",
   "execution_count": 32,
   "metadata": {},
   "outputs": [
    {
     "data": {
      "text/plain": [
       "count     145.000000\n",
       "mean      102.588482\n",
       "std       728.505075\n",
       "min         0.010167\n",
       "25%         0.086937\n",
       "50%         2.034693\n",
       "75%        11.347882\n",
       "max      8563.239258\n",
       "dtype: float64"
      ]
     },
     "execution_count": 32,
     "metadata": {},
     "output_type": "execute_result"
    }
   ],
   "source": [
    "wstETH_stETH = 0.8818\n",
    "\n",
    "bybit_stETH_comb_bals = {}\n",
    "for addr in set(bybit_user_stETH_bals.keys()).union(set(bybit_user_wstETH_bals.keys())):\n",
    "    bybit_stETH_comb_bals[addr] = bybit_user_stETH_bals.get(addr, 0) + bybit_user_wstETH_bals.get(addr, 0)*wstETH_stETH\n",
    "\n",
    "bybit_stETH_comb_bals_srs = pd.Series(bybit_stETH_comb_bals)\n",
    "bybit_stETH_comb_bals_filtered = bybit_stETH_comb_bals_srs[bybit_stETH_comb_bals_srs > dust]\n",
    "bybit_stETH_comb_bals_filtered.describe()"
   ]
  },
  {
   "cell_type": "markdown",
   "metadata": {},
   "source": [
    "Adding wstETH balances didn't change this too much. The 75th percentile increased slightly but otherwise the distribution is similar.\n",
    "\n",
    "We should note that alot of users who trade wstETH may hold their balances on L2's such as Arbitrum and Optimism for gas efficiency, along with side-chains such as polygon/matic. This analysis didn't include those L2 balances, but if we were to query them from the L2 we'd expect these estimates to rise."
   ]
  },
  {
   "cell_type": "markdown",
   "metadata": {},
   "source": [
    "## Conclusions"
   ]
  },
  {
   "cell_type": "markdown",
   "metadata": {},
   "source": [
    "### With regards to (1)\n",
    "\n",
    "Key KPIs that may be valuable to examin for Lido may include:  \n",
    "-- Total Value Locked  \n",
    "-- Number of Active Stakers  \n",
    "-- Average/Median Staked Amount per user    \n",
    "-- Staking Rewards Rate  \n",
    "-- Over Costs per Ether deposied\n",
    "-- Loses per Slashing Incident  \n",
    "-- Quantity of Assets exposed to unfavorable regulatory environments  "
   ]
  },
  {
   "cell_type": "markdown",
   "metadata": {},
   "source": [
    "### With regards to 2"
   ]
  },
  {
   "cell_type": "markdown",
   "metadata": {},
   "source": [
    "Demand for stETH has been pretty steadily increasing and could be as high as 35% growth year over year since inception, with the typical stETH holder holding around 2 stETH. This suggests the majority of stETH holders are smaller retailers, who are likely using stETH as the lack they capital or resources to run their own staking deployment. Despite this, we note that there are some very large stETH holders, as the distribution of holders is very right skewed at roughly 103 stETH. Based on the data examined it would appear that LIDO is in a strong position with stable organic growth. Be that as it may we should note that this future growth is not guaranteed. With more and more liquid staking competitors such as Rocket pool, ether fi, coinbase ether entering the market, it is likely that we will see the amount of ether tied up in liquid staking hit a terminal level, and protocols operating in the space will see a race to the bottom in terms of costs and race to the top in APY, along with user specific efficiences, as they compete to hold a share of the market. From this analysis we have identified that the growth witnessed has predominately come from smaller retail traders, so efforts are likely to be well allocated on making stETH easier to aquire and use for smaller traders. "
   ]
  }
 ],
 "metadata": {
  "kernelspec": {
   "display_name": "siren_base",
   "language": "python",
   "name": "python3"
  },
  "language_info": {
   "codemirror_mode": {
    "name": "ipython",
    "version": 3
   },
   "file_extension": ".py",
   "mimetype": "text/x-python",
   "name": "python",
   "nbconvert_exporter": "python",
   "pygments_lexer": "ipython3",
   "version": "3.9.7"
  },
  "orig_nbformat": 4
 },
 "nbformat": 4,
 "nbformat_minor": 2
}
